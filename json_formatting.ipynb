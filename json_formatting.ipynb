{
 "cells": [
  {
   "cell_type": "code",
   "execution_count": 1,
   "metadata": {},
   "outputs": [],
   "source": [
    "import json\n",
    "from datetime import datetime\n",
    "import calendar"
   ]
  },
  {
   "cell_type": "code",
   "execution_count": 2,
   "metadata": {},
   "outputs": [],
   "source": [
    "with open(\"testing.json\", \"r\") as read_file:\n",
    "    data = json.load(read_file)"
   ]
  },
  {
   "cell_type": "code",
   "execution_count": 3,
   "metadata": {},
   "outputs": [],
   "source": [
    "l = []\n",
    "long_l = list(range(1, 1000))"
   ]
  },
  {
   "cell_type": "code",
   "execution_count": 4,
   "metadata": {},
   "outputs": [],
   "source": [
    "carrier_d = {}\n",
    "\n",
    "for e in data[\"Carriers\"]:\n",
    "    for key in e:\n",
    "        if e['CarrierId'] not in carrier_d:\n",
    "            carrier_d[e['CarrierId']] = e['Name']"
   ]
  },
  {
   "cell_type": "code",
   "execution_count": 5,
   "metadata": {},
   "outputs": [
    {
     "data": {
      "text/plain": [
       "{42414: 'Barcelona', 45336: 'Copenhagen'}"
      ]
     },
     "execution_count": 5,
     "metadata": {},
     "output_type": "execute_result"
    }
   ],
   "source": [
    "data['Places']\n",
    "\n",
    "places_d = {42414: 'Barcelona', 45336: 'Copenhagen'}\n",
    "\n",
    "for e in data[\"Places\"]:\n",
    "    for key in e:\n",
    "        if e['PlaceId'] not in places_d:\n",
    "            places_d[e['PlaceId']] = e['Name']\n",
    "            \n",
    "places_d"
   ]
  },
  {
   "cell_type": "code",
   "execution_count": 6,
   "metadata": {},
   "outputs": [],
   "source": [
    "Target = cities = [\"Barcelona\" , \"Londres\", \"Milan\", \"Frankfurt\", \"Copenhague\", \"Paris\", \"Lisboa\", \"Zurich\"]\n",
    "carriers = [\"Vueling Airlines\", \"Iberia\", \"RyanAir\", \"Norwegian\", \"Lufthansa\"]\n",
    "countries = [\"\"]\n",
    "flight_is_Direct = [True]\n",
    "dates = [\"Monday\", \"Tuesday\", \"Wednesday\", \"Friday\", \"Thursday\", \"Saturday\", \"Sunday\"]\n",
    "times = [\"Morning\", \"Afternoon\", \"Evening\", \"Night\"]"
   ]
  },
  {
   "cell_type": "code",
   "execution_count": 7,
   "metadata": {},
   "outputs": [],
   "source": [
    "def city_swap(placeid, places_d):\n",
    "    if placeid in places_d:\n",
    "        return places_d[placeid]\n",
    "    else:\n",
    "        return \"Unknown City\"\n",
    "    \n",
    "def carrier_swap(carrierid, carrier_d):\n",
    "    if carrierid in carrier_d:\n",
    "        return carrier_d[carrierid]\n",
    "    else:\n",
    "        return \"Unknown Carrier\"\n",
    "    \n",
    "def day_swap(current_date):\n",
    "    d = datetime.strptime(current_date.split('T')[0], '%Y-%m-%d')\n",
    "    return d.strftime('%A')\n",
    "    \n",
    "def time_swap(current_date):\n",
    "    h = datetime.strptime(current_date.split('T')[1], '%X')\n",
    "    hour = int(h.strftime('%H'))\n",
    "    if hour < 6 or hour >=20:\n",
    "        return \"Night\"\n",
    "    elif 12 > hour >= 6:\n",
    "        return 'Morning'\n",
    "    elif 16 > hour >= 12:\n",
    "        return 'Afternoon'\n",
    "    elif 20 > hour >= 16:\n",
    "        return 'Afternoon'"
   ]
  },
  {
   "cell_type": "code",
   "execution_count": 8,
   "metadata": {},
   "outputs": [
    {
     "data": {
      "text/plain": [
       "'Night'"
      ]
     },
     "execution_count": 8,
     "metadata": {},
     "output_type": "execute_result"
    }
   ],
   "source": [
    "b=time_swap(data['Quotes'][0]['OutboundLeg']['DepartureDate'])\n",
    "b"
   ]
  },
  {
   "cell_type": "code",
   "execution_count": 9,
   "metadata": {},
   "outputs": [
    {
     "data": {
      "text/plain": [
       "'00:00:00'"
      ]
     },
     "execution_count": 9,
     "metadata": {},
     "output_type": "execute_result"
    }
   ],
   "source": [
    "data['Quotes'][0]['OutboundLeg']['DepartureDate'].split('T')[1]"
   ]
  },
  {
   "cell_type": "code",
   "execution_count": 10,
   "metadata": {},
   "outputs": [
    {
     "data": {
      "text/plain": [
       "'Wednesday'"
      ]
     },
     "execution_count": 10,
     "metadata": {},
     "output_type": "execute_result"
    }
   ],
   "source": [
    "a=day_swap(data['Quotes'][0]['OutboundLeg']['DepartureDate'])\n",
    "a"
   ]
  },
  {
   "cell_type": "code",
   "execution_count": 15,
   "metadata": {},
   "outputs": [],
   "source": [
    "for trip in data['Quotes']:\n",
    "    if long_l[0] in l:\n",
    "        print(\"CAREFUL WITH WHAT YOU DO\")\n",
    "    else:\n",
    "        if trip['Direct'] == True and trip['OutboundLeg']['CarrierIds'][0] in carrier_d:\n",
    "            l.append({'ID':long_l[0],\n",
    "                    'Price':trip['MinPrice'],\n",
    "                    'Direct':trip['Direct'],\n",
    "                    'CarrierID':carrier_swap(trip['OutboundLeg']['CarrierIds'][0], carrier_d),\n",
    "                    'OriginID':city_swap(trip['OutboundLeg']['OriginId'], places_d),\n",
    "                    'DestinationID':city_swap(trip['OutboundLeg']['DestinationId'], places_d),\n",
    "                    'DespartureDay':day_swap(trip['OutboundLeg']['DepartureDate']),\n",
    "                    'DespartureTime':time_swap(trip['OutboundLeg']['DepartureDate'])})\n",
    "            long_l.pop(0)"
   ]
  },
  {
   "cell_type": "code",
   "execution_count": 12,
   "metadata": {},
   "outputs": [
    {
     "data": {
      "text/plain": [
       "[{'ID': 1,\n",
       "  'Price': 65.0,\n",
       "  'Direct': True,\n",
       "  'CarrierID': 'Vueling Airlines',\n",
       "  'OriginID': 'Barcelona',\n",
       "  'DestinationID': 'Copenhagen',\n",
       "  'DespartureDay': 'Thursday',\n",
       "  'DespartureTime': 'Night'},\n",
       " {'ID': 2,\n",
       "  'Price': 64.0,\n",
       "  'Direct': True,\n",
       "  'CarrierID': 'Vueling Airlines',\n",
       "  'OriginID': 'Barcelona',\n",
       "  'DestinationID': 'Copenhagen',\n",
       "  'DespartureDay': 'Friday',\n",
       "  'DespartureTime': 'Night'},\n",
       " {'ID': 3,\n",
       "  'Price': 55.0,\n",
       "  'Direct': True,\n",
       "  'CarrierID': 'Vueling Airlines',\n",
       "  'OriginID': 'Barcelona',\n",
       "  'DestinationID': 'Copenhagen',\n",
       "  'DespartureDay': 'Saturday',\n",
       "  'DespartureTime': 'Night'},\n",
       " {'ID': 4,\n",
       "  'Price': 80.0,\n",
       "  'Direct': True,\n",
       "  'CarrierID': 'Norwegian',\n",
       "  'OriginID': 'Barcelona',\n",
       "  'DestinationID': 'Copenhagen',\n",
       "  'DespartureDay': 'Sunday',\n",
       "  'DespartureTime': 'Night'},\n",
       " {'ID': 5,\n",
       "  'Price': 420.0,\n",
       "  'Direct': True,\n",
       "  'CarrierID': 'Norwegian',\n",
       "  'OriginID': 'Barcelona',\n",
       "  'DestinationID': 'Copenhagen',\n",
       "  'DespartureDay': 'Monday',\n",
       "  'DespartureTime': 'Night'},\n",
       " {'ID': 6,\n",
       "  'Price': 68.0,\n",
       "  'Direct': True,\n",
       "  'CarrierID': 'Norwegian',\n",
       "  'OriginID': 'Barcelona',\n",
       "  'DestinationID': 'Copenhagen',\n",
       "  'DespartureDay': 'Tuesday',\n",
       "  'DespartureTime': 'Night'},\n",
       " {'ID': 7,\n",
       "  'Price': 39.0,\n",
       "  'Direct': True,\n",
       "  'CarrierID': 'Norwegian',\n",
       "  'OriginID': 'Barcelona',\n",
       "  'DestinationID': 'Copenhagen',\n",
       "  'DespartureDay': 'Wednesday',\n",
       "  'DespartureTime': 'Night'},\n",
       " {'ID': 8,\n",
       "  'Price': 38.0,\n",
       "  'Direct': True,\n",
       "  'CarrierID': 'Norwegian',\n",
       "  'OriginID': 'Barcelona',\n",
       "  'DestinationID': 'Copenhagen',\n",
       "  'DespartureDay': 'Thursday',\n",
       "  'DespartureTime': 'Night'},\n",
       " {'ID': 9,\n",
       "  'Price': 38.0,\n",
       "  'Direct': True,\n",
       "  'CarrierID': 'Norwegian',\n",
       "  'OriginID': 'Barcelona',\n",
       "  'DestinationID': 'Copenhagen',\n",
       "  'DespartureDay': 'Friday',\n",
       "  'DespartureTime': 'Night'},\n",
       " {'ID': 10,\n",
       "  'Price': 45.0,\n",
       "  'Direct': True,\n",
       "  'CarrierID': 'Vueling Airlines',\n",
       "  'OriginID': 'Barcelona',\n",
       "  'DestinationID': 'Copenhagen',\n",
       "  'DespartureDay': 'Saturday',\n",
       "  'DespartureTime': 'Night'},\n",
       " {'ID': 11,\n",
       "  'Price': 38.0,\n",
       "  'Direct': True,\n",
       "  'CarrierID': 'Norwegian',\n",
       "  'OriginID': 'Barcelona',\n",
       "  'DestinationID': 'Copenhagen',\n",
       "  'DespartureDay': 'Sunday',\n",
       "  'DespartureTime': 'Night'},\n",
       " {'ID': 12,\n",
       "  'Price': 52.0,\n",
       "  'Direct': True,\n",
       "  'CarrierID': 'Norwegian',\n",
       "  'OriginID': 'Barcelona',\n",
       "  'DestinationID': 'Copenhagen',\n",
       "  'DespartureDay': 'Monday',\n",
       "  'DespartureTime': 'Night'},\n",
       " {'ID': 13,\n",
       "  'Price': 37.0,\n",
       "  'Direct': True,\n",
       "  'CarrierID': 'Norwegian',\n",
       "  'OriginID': 'Barcelona',\n",
       "  'DestinationID': 'Copenhagen',\n",
       "  'DespartureDay': 'Tuesday',\n",
       "  'DespartureTime': 'Night'},\n",
       " {'ID': 14,\n",
       "  'Price': 52.0,\n",
       "  'Direct': True,\n",
       "  'CarrierID': 'Norwegian',\n",
       "  'OriginID': 'Barcelona',\n",
       "  'DestinationID': 'Copenhagen',\n",
       "  'DespartureDay': 'Wednesday',\n",
       "  'DespartureTime': 'Night'},\n",
       " {'ID': 15,\n",
       "  'Price': 38.0,\n",
       "  'Direct': True,\n",
       "  'CarrierID': 'Norwegian',\n",
       "  'OriginID': 'Barcelona',\n",
       "  'DestinationID': 'Copenhagen',\n",
       "  'DespartureDay': 'Thursday',\n",
       "  'DespartureTime': 'Night'},\n",
       " {'ID': 16,\n",
       "  'Price': 54.0,\n",
       "  'Direct': True,\n",
       "  'CarrierID': 'Norwegian',\n",
       "  'OriginID': 'Barcelona',\n",
       "  'DestinationID': 'Copenhagen',\n",
       "  'DespartureDay': 'Friday',\n",
       "  'DespartureTime': 'Night'}]"
      ]
     },
     "execution_count": 12,
     "metadata": {},
     "output_type": "execute_result"
    }
   ],
   "source": [
    "l"
   ]
  },
  {
   "cell_type": "code",
   "execution_count": null,
   "metadata": {},
   "outputs": [],
   "source": [
    "\n"
   ]
  },
  {
   "cell_type": "code",
   "execution_count": 13,
   "metadata": {},
   "outputs": [
    {
     "data": {
      "text/plain": [
       "[{'QuoteId': 1,\n",
       "  'Price': 99.0,\n",
       "  'Direct': True,\n",
       "  'Carrier': 'Vueling',\n",
       "  'OriginId': 'Barcelona',\n",
       "  'DestinationId': 'Copenhagen',\n",
       "  'OutboundDay': 'Monday',\n",
       "  'OutboundTime': 'Noon',\n",
       "  'InboundDay': 'Wednesday',\n",
       "  'InboundTime': 'Evening'}]"
      ]
     },
     "execution_count": 13,
     "metadata": {},
     "output_type": "execute_result"
    }
   ],
   "source": [
    "[{'QuoteId': 1,\n",
    "    'Price': 99.0,\n",
    "    'Direct': True,\n",
    "    'Carrier': \"Vueling\",\n",
    "    'OriginId': \"Barcelona\",\n",
    "    'DestinationId': \"Copenhagen\",\n",
    "    'OutboundDay': 'Monday',\n",
    "    'OutboundTime': \"Noon\",\n",
    "    'InboundDay': 'Wednesday', \n",
    "    'InboundTime': \"Evening\"}]"
   ]
  },
  {
   "cell_type": "code",
   "execution_count": null,
   "metadata": {},
   "outputs": [],
   "source": []
  }
 ],
 "metadata": {
  "kernelspec": {
   "display_name": "Python 3",
   "language": "python",
   "name": "python3"
  },
  "language_info": {
   "codemirror_mode": {
    "name": "ipython",
    "version": 3
   },
   "file_extension": ".py",
   "mimetype": "text/x-python",
   "name": "python",
   "nbconvert_exporter": "python",
   "pygments_lexer": "ipython3",
   "version": "3.7.6"
  }
 },
 "nbformat": 4,
 "nbformat_minor": 2
}
