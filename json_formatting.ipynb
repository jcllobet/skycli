{
 "cells": [
  {
   "cell_type": "code",
   "execution_count": 1,
   "metadata": {},
   "outputs": [],
   "source": [
    "import json"
   ]
  },
  {
   "cell_type": "code",
   "execution_count": 2,
   "metadata": {},
   "outputs": [],
   "source": [
    "with open(\"testing.json\", \"r\") as read_file:\n",
    "    data = json.load(read_file)"
   ]
  },
  {
   "cell_type": "code",
   "execution_count": 3,
   "metadata": {},
   "outputs": [
    {
     "data": {
      "text/plain": [
       "[{'CarrierId': 1001, 'Name': 'Norwegian'},\n",
       " {'CarrierId': 1090, 'Name': 'Ryanair'},\n",
       " {'CarrierId': 1509, 'Name': 'Laudamotion'},\n",
       " {'CarrierId': 1865, 'Name': 'Vueling Airlines'}]"
      ]
     },
     "execution_count": 3,
     "metadata": {},
     "output_type": "execute_result"
    }
   ],
   "source": [
    "data[\"Carriers\"]"
   ]
  },
  {
   "cell_type": "code",
   "execution_count": 4,
   "metadata": {},
   "outputs": [
    {
     "data": {
      "text/plain": [
       "[{'PlaceId': 42414,\n",
       "  'IataCode': 'BCN',\n",
       "  'Name': 'Barcelona',\n",
       "  'Type': 'Station',\n",
       "  'SkyscannerCode': 'BCN',\n",
       "  'CityName': 'Barcelona',\n",
       "  'CityId': 'BARC',\n",
       "  'CountryName': 'Spain'},\n",
       " {'PlaceId': 45336,\n",
       "  'IataCode': 'CPH',\n",
       "  'Name': 'Copenhagen',\n",
       "  'Type': 'Station',\n",
       "  'SkyscannerCode': 'CPH',\n",
       "  'CityName': 'Copenhagen',\n",
       "  'CityId': 'COPE',\n",
       "  'CountryName': 'Denmark'}]"
      ]
     },
     "execution_count": 4,
     "metadata": {},
     "output_type": "execute_result"
    }
   ],
   "source": [
    "data['Places']"
   ]
  },
  {
   "cell_type": "code",
   "execution_count": 5,
   "metadata": {},
   "outputs": [],
   "source": [
    "l = []\n",
    "long_l = list(range(1, 1000))"
   ]
  },
  {
   "cell_type": "code",
   "execution_count": 6,
   "metadata": {},
   "outputs": [
    {
     "data": {
      "text/plain": [
       "{'QuoteId': 2,\n",
       " 'MinPrice': 65.0,\n",
       " 'Direct': True,\n",
       " 'OutboundLeg': {'CarrierIds': [1865],\n",
       "  'OriginId': 42414,\n",
       "  'DestinationId': 45336,\n",
       "  'DepartureDate': '2020-01-16T00:00:00'},\n",
       " 'QuoteDateTime': '2020-01-14T09:06:00'}"
      ]
     },
     "execution_count": 6,
     "metadata": {},
     "output_type": "execute_result"
    }
   ],
   "source": [
    "data['Quotes'][1]"
   ]
  },
  {
   "cell_type": "code",
   "execution_count": 7,
   "metadata": {},
   "outputs": [],
   "source": [
    "for trip in data['Quotes']:\n",
    "    if long_l[0] in l:\n",
    "        print(\"CAREFUL WITH WHAT YOU DO\")\n",
    "    else:\n",
    "        if trip['Direct'] == True:\n",
    "            l.append({'ID':long_l[0],\n",
    "                    'Price':trip['MinPrice'],\n",
    "                    'Direct':trip['Direct'],\n",
    "                    'CarrierID':trip['OutboundLeg']['CarrierIds'],\n",
    "                    'OriginID':trip['OutboundLeg']['OriginId'],\n",
    "                    'DestinationID':trip['OutboundLeg']['DestinationId'],\n",
    "                    'DespartureDate':trip['OutboundLeg']['DepartureDate']})\n",
    "            long_l.pop(0)"
   ]
  },
  {
   "cell_type": "code",
   "execution_count": 8,
   "metadata": {},
   "outputs": [
    {
     "data": {
      "text/plain": [
       "[{'ID': 1,\n",
       "  'Price': 65.0,\n",
       "  'Direct': True,\n",
       "  'CarrierID': [1865],\n",
       "  'OriginID': 42414,\n",
       "  'DestinationID': 45336,\n",
       "  'DespartureDate': '2020-01-16T00:00:00'},\n",
       " {'ID': 2,\n",
       "  'Price': 64.0,\n",
       "  'Direct': True,\n",
       "  'CarrierID': [1865],\n",
       "  'OriginID': 42414,\n",
       "  'DestinationID': 45336,\n",
       "  'DespartureDate': '2020-01-17T00:00:00'},\n",
       " {'ID': 3,\n",
       "  'Price': 55.0,\n",
       "  'Direct': True,\n",
       "  'CarrierID': [1865],\n",
       "  'OriginID': 42414,\n",
       "  'DestinationID': 45336,\n",
       "  'DespartureDate': '2020-01-18T00:00:00'},\n",
       " {'ID': 4,\n",
       "  'Price': 80.0,\n",
       "  'Direct': True,\n",
       "  'CarrierID': [1001],\n",
       "  'OriginID': 42414,\n",
       "  'DestinationID': 45336,\n",
       "  'DespartureDate': '2020-01-19T00:00:00'},\n",
       " {'ID': 5,\n",
       "  'Price': 420.0,\n",
       "  'Direct': True,\n",
       "  'CarrierID': [1001],\n",
       "  'OriginID': 42414,\n",
       "  'DestinationID': 45336,\n",
       "  'DespartureDate': '2020-01-20T00:00:00'},\n",
       " {'ID': 6,\n",
       "  'Price': 68.0,\n",
       "  'Direct': True,\n",
       "  'CarrierID': [1001],\n",
       "  'OriginID': 42414,\n",
       "  'DestinationID': 45336,\n",
       "  'DespartureDate': '2020-01-21T00:00:00'},\n",
       " {'ID': 7,\n",
       "  'Price': 39.0,\n",
       "  'Direct': True,\n",
       "  'CarrierID': [1001],\n",
       "  'OriginID': 42414,\n",
       "  'DestinationID': 45336,\n",
       "  'DespartureDate': '2020-01-22T00:00:00'},\n",
       " {'ID': 8,\n",
       "  'Price': 38.0,\n",
       "  'Direct': True,\n",
       "  'CarrierID': [1001],\n",
       "  'OriginID': 42414,\n",
       "  'DestinationID': 45336,\n",
       "  'DespartureDate': '2020-01-23T00:00:00'},\n",
       " {'ID': 9,\n",
       "  'Price': 38.0,\n",
       "  'Direct': True,\n",
       "  'CarrierID': [1001],\n",
       "  'OriginID': 42414,\n",
       "  'DestinationID': 45336,\n",
       "  'DespartureDate': '2020-01-24T00:00:00'},\n",
       " {'ID': 10,\n",
       "  'Price': 45.0,\n",
       "  'Direct': True,\n",
       "  'CarrierID': [1865],\n",
       "  'OriginID': 42414,\n",
       "  'DestinationID': 45336,\n",
       "  'DespartureDate': '2020-01-25T00:00:00'},\n",
       " {'ID': 11,\n",
       "  'Price': 38.0,\n",
       "  'Direct': True,\n",
       "  'CarrierID': [1001],\n",
       "  'OriginID': 42414,\n",
       "  'DestinationID': 45336,\n",
       "  'DespartureDate': '2020-01-26T00:00:00'},\n",
       " {'ID': 12,\n",
       "  'Price': 52.0,\n",
       "  'Direct': True,\n",
       "  'CarrierID': [1001],\n",
       "  'OriginID': 42414,\n",
       "  'DestinationID': 45336,\n",
       "  'DespartureDate': '2020-01-27T00:00:00'},\n",
       " {'ID': 13,\n",
       "  'Price': 37.0,\n",
       "  'Direct': True,\n",
       "  'CarrierID': [1001],\n",
       "  'OriginID': 42414,\n",
       "  'DestinationID': 45336,\n",
       "  'DespartureDate': '2020-01-28T00:00:00'},\n",
       " {'ID': 14,\n",
       "  'Price': 52.0,\n",
       "  'Direct': True,\n",
       "  'CarrierID': [1001],\n",
       "  'OriginID': 42414,\n",
       "  'DestinationID': 45336,\n",
       "  'DespartureDate': '2020-01-29T00:00:00'},\n",
       " {'ID': 15,\n",
       "  'Price': 38.0,\n",
       "  'Direct': True,\n",
       "  'CarrierID': [1001],\n",
       "  'OriginID': 42414,\n",
       "  'DestinationID': 45336,\n",
       "  'DespartureDate': '2020-01-30T00:00:00'},\n",
       " {'ID': 16,\n",
       "  'Price': 54.0,\n",
       "  'Direct': True,\n",
       "  'CarrierID': [1001],\n",
       "  'OriginID': 42414,\n",
       "  'DestinationID': 45336,\n",
       "  'DespartureDate': '2020-01-31T00:00:00'}]"
      ]
     },
     "execution_count": 8,
     "metadata": {},
     "output_type": "execute_result"
    }
   ],
   "source": [
    "l"
   ]
  },
  {
   "cell_type": "code",
   "execution_count": 9,
   "metadata": {},
   "outputs": [],
   "source": [
    "Target = cities = [\"Barcelona\" , \"Londres\", \"Milan\", \"Frankfurt\", \"Copenhague\", \"Paris\", \"Lisboa\", \"Zurich\"]\n",
    "countries = [\"Spain\", \"UK\", \"Italy\", \"Germany\", \"France\", \"Portugal\"]\n",
    "carriers = [\"Vueling\", \"Iberia\", \"RyanAir\", \"AirEuropa\"]\n",
    "flight_is_Direct = [True, True, True, True]\n",
    "dates = [\"Monday\", \"Tuesday\", \"Wednesday\", \"Friday\", \"Thursday\", \"Saturday\", \"Sunday\"]\n",
    "times = [\"Evening\", \"Noon\", \"Morning\", \"Afternoon\"]"
   ]
  },
  {
   "cell_type": "code",
   "execution_count": 10,
   "metadata": {},
   "outputs": [
    {
     "data": {
      "text/plain": [
       "[{'QuoteId': 1,\n",
       "  'Price': 99.0,\n",
       "  'Direct': True,\n",
       "  'Carrier': 'Vueling',\n",
       "  'OriginId': 'Barcelona',\n",
       "  'DestinationId': 'Copenhagen',\n",
       "  'OutboundDay': 'Monday',\n",
       "  'OutboundTime': 'Noon',\n",
       "  'InboundDay': 'Wednesday',\n",
       "  'InboundTime': 'Evening'}]"
      ]
     },
     "execution_count": 10,
     "metadata": {},
     "output_type": "execute_result"
    }
   ],
   "source": [
    "[{'QuoteId': 1,\n",
    "    'Price': 99.0,\n",
    "    'Direct': True,\n",
    "    'Carrier': \"Vueling\",\n",
    "    'OriginId': \"Barcelona\",\n",
    "    'DestinationId': \"Copenhagen\",\n",
    "    'OutboundDay': 'Monday',\n",
    "    'OutboundTime': \"Noon\",\n",
    "    'InboundDay': 'Wednesday', \n",
    "    'InboundTime': \"Evening\"}]"
   ]
  },
  {
   "cell_type": "code",
   "execution_count": null,
   "metadata": {},
   "outputs": [],
   "source": []
  }
 ],
 "metadata": {
  "kernelspec": {
   "display_name": "Python 3",
   "language": "python",
   "name": "python3"
  },
  "language_info": {
   "codemirror_mode": {
    "name": "ipython",
    "version": 3
   },
   "file_extension": ".py",
   "mimetype": "text/x-python",
   "name": "python",
   "nbconvert_exporter": "python",
   "pygments_lexer": "ipython3",
   "version": "3.7.6"
  }
 },
 "nbformat": 4,
 "nbformat_minor": 2
}
