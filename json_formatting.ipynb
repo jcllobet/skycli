{
 "cells": [
  {
   "cell_type": "code",
   "execution_count": 1,
   "metadata": {},
   "outputs": [],
   "source": [
    "import json"
   ]
  },
  {
   "cell_type": "code",
   "execution_count": 4,
   "metadata": {},
   "outputs": [],
   "source": [
    "with open(\"testing.json\", \"r\") as read_file:\n",
    "    data = json.load(read_file)"
   ]
  },
  {
   "cell_type": "code",
   "execution_count": 14,
   "metadata": {},
   "outputs": [
    {
     "data": {
      "text/plain": [
       "[{'CarrierId': 1001, 'Name': 'Norwegian'},\n",
       " {'CarrierId': 1090, 'Name': 'Ryanair'},\n",
       " {'CarrierId': 1509, 'Name': 'Laudamotion'},\n",
       " {'CarrierId': 1865, 'Name': 'Vueling Airlines'}]"
      ]
     },
     "execution_count": 14,
     "metadata": {},
     "output_type": "execute_result"
    }
   ],
   "source": [
    "data[\"Carriers\"]"
   ]
  },
  {
   "cell_type": "code",
   "execution_count": 16,
   "metadata": {},
   "outputs": [
    {
     "data": {
      "text/plain": [
       "[{'PlaceId': 42414,\n",
       "  'IataCode': 'BCN',\n",
       "  'Name': 'Barcelona',\n",
       "  'Type': 'Station',\n",
       "  'SkyscannerCode': 'BCN',\n",
       "  'CityName': 'Barcelona',\n",
       "  'CityId': 'BARC',\n",
       "  'CountryName': 'Spain'},\n",
       " {'PlaceId': 45336,\n",
       "  'IataCode': 'CPH',\n",
       "  'Name': 'Copenhagen',\n",
       "  'Type': 'Station',\n",
       "  'SkyscannerCode': 'CPH',\n",
       "  'CityName': 'Copenhagen',\n",
       "  'CityId': 'COPE',\n",
       "  'CountryName': 'Denmark'}]"
      ]
     },
     "execution_count": 16,
     "metadata": {},
     "output_type": "execute_result"
    }
   ],
   "source": [
    "data['Places']"
   ]
  },
  {
   "cell_type": "code",
   "execution_count": null,
   "metadata": {},
   "outputs": [],
   "source": [
    "flight\n",
    "new_d = {}\n"
   ]
  },
  {
   "cell_type": "code",
   "execution_count": 5,
   "metadata": {},
   "outputs": [
    {
     "data": {
      "text/plain": [
       "{'Routes': [],\n",
       " 'Quotes': [{'QuoteId': 1,\n",
       "   'MinPrice': 99.0,\n",
       "   'Direct': False,\n",
       "   'OutboundLeg': {'CarrierIds': [1090],\n",
       "    'OriginId': 42414,\n",
       "    'DestinationId': 45336,\n",
       "    'DepartureDate': '2020-01-15T00:00:00'},\n",
       "   'QuoteDateTime': '2020-01-14T10:30:00'},\n",
       "  {'QuoteId': 2,\n",
       "   'MinPrice': 65.0,\n",
       "   'Direct': True,\n",
       "   'OutboundLeg': {'CarrierIds': [1865],\n",
       "    'OriginId': 42414,\n",
       "    'DestinationId': 45336,\n",
       "    'DepartureDate': '2020-01-16T00:00:00'},\n",
       "   'QuoteDateTime': '2020-01-14T09:06:00'},\n",
       "  {'QuoteId': 3,\n",
       "   'MinPrice': 64.0,\n",
       "   'Direct': True,\n",
       "   'OutboundLeg': {'CarrierIds': [1865],\n",
       "    'OriginId': 42414,\n",
       "    'DestinationId': 45336,\n",
       "    'DepartureDate': '2020-01-17T00:00:00'},\n",
       "   'QuoteDateTime': '2020-01-14T09:06:00'},\n",
       "  {'QuoteId': 4,\n",
       "   'MinPrice': 51.0,\n",
       "   'Direct': False,\n",
       "   'OutboundLeg': {'CarrierIds': [1090],\n",
       "    'OriginId': 42414,\n",
       "    'DestinationId': 45336,\n",
       "    'DepartureDate': '2020-01-18T00:00:00'},\n",
       "   'QuoteDateTime': '2020-01-14T09:07:00'},\n",
       "  {'QuoteId': 5,\n",
       "   'MinPrice': 55.0,\n",
       "   'Direct': True,\n",
       "   'OutboundLeg': {'CarrierIds': [1865],\n",
       "    'OriginId': 42414,\n",
       "    'DestinationId': 45336,\n",
       "    'DepartureDate': '2020-01-18T00:00:00'},\n",
       "   'QuoteDateTime': '2020-01-14T09:07:00'},\n",
       "  {'QuoteId': 6,\n",
       "   'MinPrice': 59.0,\n",
       "   'Direct': False,\n",
       "   'OutboundLeg': {'CarrierIds': [1090],\n",
       "    'OriginId': 42414,\n",
       "    'DestinationId': 45336,\n",
       "    'DepartureDate': '2020-01-19T00:00:00'},\n",
       "   'QuoteDateTime': '2020-01-14T06:32:00'},\n",
       "  {'QuoteId': 7,\n",
       "   'MinPrice': 80.0,\n",
       "   'Direct': True,\n",
       "   'OutboundLeg': {'CarrierIds': [1001],\n",
       "    'OriginId': 42414,\n",
       "    'DestinationId': 45336,\n",
       "    'DepartureDate': '2020-01-19T00:00:00'},\n",
       "   'QuoteDateTime': '2020-01-14T06:32:00'},\n",
       "  {'QuoteId': 8,\n",
       "   'MinPrice': 85.0,\n",
       "   'Direct': False,\n",
       "   'OutboundLeg': {'CarrierIds': [1865],\n",
       "    'OriginId': 42414,\n",
       "    'DestinationId': 45336,\n",
       "    'DepartureDate': '2020-01-20T00:00:00'},\n",
       "   'QuoteDateTime': '2020-01-14T10:01:00'},\n",
       "  {'QuoteId': 9,\n",
       "   'MinPrice': 420.0,\n",
       "   'Direct': True,\n",
       "   'OutboundLeg': {'CarrierIds': [1001],\n",
       "    'OriginId': 42414,\n",
       "    'DestinationId': 45336,\n",
       "    'DepartureDate': '2020-01-20T00:00:00'},\n",
       "   'QuoteDateTime': '2020-01-14T10:01:00'},\n",
       "  {'QuoteId': 10,\n",
       "   'MinPrice': 65.0,\n",
       "   'Direct': False,\n",
       "   'OutboundLeg': {'CarrierIds': [1509],\n",
       "    'OriginId': 42414,\n",
       "    'DestinationId': 45336,\n",
       "    'DepartureDate': '2020-01-21T00:00:00'},\n",
       "   'QuoteDateTime': '2020-01-14T08:24:00'},\n",
       "  {'QuoteId': 11,\n",
       "   'MinPrice': 68.0,\n",
       "   'Direct': True,\n",
       "   'OutboundLeg': {'CarrierIds': [1001],\n",
       "    'OriginId': 42414,\n",
       "    'DestinationId': 45336,\n",
       "    'DepartureDate': '2020-01-21T00:00:00'},\n",
       "   'QuoteDateTime': '2020-01-14T09:29:00'},\n",
       "  {'QuoteId': 12,\n",
       "   'MinPrice': 39.0,\n",
       "   'Direct': True,\n",
       "   'OutboundLeg': {'CarrierIds': [1001],\n",
       "    'OriginId': 42414,\n",
       "    'DestinationId': 45336,\n",
       "    'DepartureDate': '2020-01-22T00:00:00'},\n",
       "   'QuoteDateTime': '2020-01-13T11:22:00'},\n",
       "  {'QuoteId': 13,\n",
       "   'MinPrice': 38.0,\n",
       "   'Direct': True,\n",
       "   'OutboundLeg': {'CarrierIds': [1001],\n",
       "    'OriginId': 42414,\n",
       "    'DestinationId': 45336,\n",
       "    'DepartureDate': '2020-01-23T00:00:00'},\n",
       "   'QuoteDateTime': '2020-01-14T05:33:00'},\n",
       "  {'QuoteId': 14,\n",
       "   'MinPrice': 38.0,\n",
       "   'Direct': True,\n",
       "   'OutboundLeg': {'CarrierIds': [1001],\n",
       "    'OriginId': 42414,\n",
       "    'DestinationId': 45336,\n",
       "    'DepartureDate': '2020-01-24T00:00:00'},\n",
       "   'QuoteDateTime': '2020-01-14T08:39:00'},\n",
       "  {'QuoteId': 15,\n",
       "   'MinPrice': 45.0,\n",
       "   'Direct': True,\n",
       "   'OutboundLeg': {'CarrierIds': [1865],\n",
       "    'OriginId': 42414,\n",
       "    'DestinationId': 45336,\n",
       "    'DepartureDate': '2020-01-25T00:00:00'},\n",
       "   'QuoteDateTime': '2020-01-14T09:01:00'},\n",
       "  {'QuoteId': 16,\n",
       "   'MinPrice': 38.0,\n",
       "   'Direct': True,\n",
       "   'OutboundLeg': {'CarrierIds': [1001],\n",
       "    'OriginId': 42414,\n",
       "    'DestinationId': 45336,\n",
       "    'DepartureDate': '2020-01-26T00:00:00'},\n",
       "   'QuoteDateTime': '2020-01-14T10:47:00'},\n",
       "  {'QuoteId': 17,\n",
       "   'MinPrice': 52.0,\n",
       "   'Direct': True,\n",
       "   'OutboundLeg': {'CarrierIds': [1001],\n",
       "    'OriginId': 42414,\n",
       "    'DestinationId': 45336,\n",
       "    'DepartureDate': '2020-01-27T00:00:00'},\n",
       "   'QuoteDateTime': '2020-01-14T09:59:00'},\n",
       "  {'QuoteId': 18,\n",
       "   'MinPrice': 37.0,\n",
       "   'Direct': True,\n",
       "   'OutboundLeg': {'CarrierIds': [1001],\n",
       "    'OriginId': 42414,\n",
       "    'DestinationId': 45336,\n",
       "    'DepartureDate': '2020-01-28T00:00:00'},\n",
       "   'QuoteDateTime': '2020-01-13T12:22:00'},\n",
       "  {'QuoteId': 19,\n",
       "   'MinPrice': 52.0,\n",
       "   'Direct': True,\n",
       "   'OutboundLeg': {'CarrierIds': [1001],\n",
       "    'OriginId': 42414,\n",
       "    'DestinationId': 45336,\n",
       "    'DepartureDate': '2020-01-29T00:00:00'},\n",
       "   'QuoteDateTime': '2020-01-14T09:23:00'},\n",
       "  {'QuoteId': 20,\n",
       "   'MinPrice': 38.0,\n",
       "   'Direct': True,\n",
       "   'OutboundLeg': {'CarrierIds': [1001],\n",
       "    'OriginId': 42414,\n",
       "    'DestinationId': 45336,\n",
       "    'DepartureDate': '2020-01-30T00:00:00'},\n",
       "   'QuoteDateTime': '2020-01-14T07:20:00'},\n",
       "  {'QuoteId': 21,\n",
       "   'MinPrice': 54.0,\n",
       "   'Direct': True,\n",
       "   'OutboundLeg': {'CarrierIds': [1001],\n",
       "    'OriginId': 42414,\n",
       "    'DestinationId': 45336,\n",
       "    'DepartureDate': '2020-01-31T00:00:00'},\n",
       "   'QuoteDateTime': '2020-01-12T13:33:00'}],\n",
       " 'Places': [{'PlaceId': 42414,\n",
       "   'IataCode': 'BCN',\n",
       "   'Name': 'Barcelona',\n",
       "   'Type': 'Station',\n",
       "   'SkyscannerCode': 'BCN',\n",
       "   'CityName': 'Barcelona',\n",
       "   'CityId': 'BARC',\n",
       "   'CountryName': 'Spain'},\n",
       "  {'PlaceId': 45336,\n",
       "   'IataCode': 'CPH',\n",
       "   'Name': 'Copenhagen',\n",
       "   'Type': 'Station',\n",
       "   'SkyscannerCode': 'CPH',\n",
       "   'CityName': 'Copenhagen',\n",
       "   'CityId': 'COPE',\n",
       "   'CountryName': 'Denmark'}],\n",
       " 'Carriers': [{'CarrierId': 1001, 'Name': 'Norwegian'},\n",
       "  {'CarrierId': 1090, 'Name': 'Ryanair'},\n",
       "  {'CarrierId': 1509, 'Name': 'Laudamotion'},\n",
       "  {'CarrierId': 1865, 'Name': 'Vueling Airlines'}],\n",
       " 'Currencies': [{'Code': 'EUR',\n",
       "   'Symbol': 'â‚¬',\n",
       "   'ThousandsSeparator': '.',\n",
       "   'DecimalSeparator': ',',\n",
       "   'SymbolOnLeft': False,\n",
       "   'SpaceBetweenAmountAndSymbol': True,\n",
       "   'RoundingCoefficient': 0,\n",
       "   'DecimalDigits': 2}]}"
      ]
     },
     "execution_count": 5,
     "metadata": {},
     "output_type": "execute_result"
    }
   ],
   "source": [
    "for e in data['Quotes']:\n",
    "    new_d"
   ]
  },
  {
   "cell_type": "code",
   "execution_count": 12,
   "metadata": {},
   "outputs": [
    {
     "data": {
      "text/plain": [
       "{'QuoteId': 2,\n",
       " 'MinPrice': 65.0,\n",
       " 'Direct': True,\n",
       " 'OutboundLeg': {'CarrierIds': [1865],\n",
       "  'OriginId': 42414,\n",
       "  'DestinationId': 45336,\n",
       "  'DepartureDate': '2020-01-16T00:00:00'},\n",
       " 'QuoteDateTime': '2020-01-14T09:06:00'}"
      ]
     },
     "execution_count": 12,
     "metadata": {},
     "output_type": "execute_result"
    }
   ],
   "source": [
    "data['Quotes'][1]"
   ]
  },
  {
   "cell_type": "code",
   "execution_count": 8,
   "metadata": {},
   "outputs": [],
   "source": [
    "Target = cities = [\"Barcelona\" , \"Londres\", \"Milan\", \"Frankfurt\", \"Copenhague\", \"Paris\", \"Lisboa\", \"Zurich\"]\n",
    "countries = [\"Spain\", \"UK\", \"Italy\", \"Germany\", \"France\", \"Portugal\"]\n",
    "carriers = [\"Vueling\", \"Iberia\", \"RyanAir\", \"AirEuropa\"]\n",
    "flight_is_Direct = [True, True, True, True]\n",
    "dates = [\"Monday\", \"Tuesday\", \"Wednesday\", \"Friday\", \"Thursday\", \"Saturday\", \"Sunday\"]\n",
    "times = [\"Evening\", \"Noon\", \"Morning\", \"Afternoon\"]"
   ]
  },
  {
   "cell_type": "code",
   "execution_count": 10,
   "metadata": {},
   "outputs": [
    {
     "data": {
      "text/plain": [
       "[{'QuoteId': 1,\n",
       "  'Price': 99.0,\n",
       "  'Direct': True,\n",
       "  'Carrier': 'Vueling',\n",
       "  'OriginId': 'Barcelona',\n",
       "  'DestinationId': 'Copenhagen',\n",
       "  'OutboundDay': 'Monday',\n",
       "  'OutboundTime': 'Noon',\n",
       "  'InboundDay': 'Wednesday',\n",
       "  'InboundTime': 'Evening'}]"
      ]
     },
     "execution_count": 10,
     "metadata": {},
     "output_type": "execute_result"
    }
   ],
   "source": [
    "[{'QuoteId': 1,\n",
    "    'Price': 99.0,\n",
    "    'Direct': True,\n",
    "    'Carrier': \"Vueling\",\n",
    "    'OriginId': \"Barcelona\",\n",
    "    'DestinationId': \"Copenhagen\",\n",
    "    'OutboundDay': 'Monday',\n",
    "    'OutboundTime': \"Noon\",\n",
    "    'InboundDay': 'Wednesday', \n",
    "    'InboundTime': \"Evening\"}]"
   ]
  },
  {
   "cell_type": "code",
   "execution_count": null,
   "metadata": {},
   "outputs": [],
   "source": []
  }
 ],
 "metadata": {
  "kernelspec": {
   "display_name": "Python 3",
   "language": "python",
   "name": "python3"
  },
  "language_info": {
   "codemirror_mode": {
    "name": "ipython",
    "version": 3
   },
   "file_extension": ".py",
   "mimetype": "text/x-python",
   "name": "python",
   "nbconvert_exporter": "python",
   "pygments_lexer": "ipython3",
   "version": "3.7.6"
  }
 },
 "nbformat": 4,
 "nbformat_minor": 2
}
